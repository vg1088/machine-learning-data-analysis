import pandas as pd
import numpy as np
from sklearn.model_selection import train_test_split
from sklearn.preprocessing import LabelEncoder, StandardScaler
from sklearn.ensemble import RandomForestRegressor
from sklearn.metrics import mean_absolute_error, r2_score
from sklearn.metrics import accuracy_score
from sklearn.ensemble import RandomForestClassifier


df = pd. read_csv('../data/RAW_us_deaths.csv')


df.head()


df_0 = df[['Province_State','UID','2/28/23','3/1/23','3/2/23']]
df_0.shape


df_1 = df_0[df_0['Province_State'] == 'New Hampshire', 'Alabama']
df_1.count()
#df_1.isnull().sum()


df_1.shape


df_2 = df_1.rename(columns={'2/28/23' : 'feb', '3/1/23':'mar1', '3/2/23' : 'mar2'}) 
df_2.head()


x = df_2['Admin2'].unique()
print(x)



